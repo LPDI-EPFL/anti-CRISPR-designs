{
 "cells": [
  {
   "cell_type": "code",
   "execution_count": 1,
   "metadata": {},
   "outputs": [
    {
     "name": "stdout",
     "output_type": "stream",
     "text": [
      "Populating the interactive namespace from numpy and matplotlib\n"
     ]
    }
   ],
   "source": [
    "% pylab inline\n",
    "% load_ext autoreload\n",
    "% autoreload 2"
   ]
  },
  {
   "cell_type": "code",
   "execution_count": 2,
   "metadata": {},
   "outputs": [],
   "source": [
    "import numpy as np\n",
    "import pandas as pd\n",
    "import seaborn as sns\n",
    "import Zbox as zb\n",
    "import rstoolbox as rb\n",
    "# Dataframe display\n",
    "#pd.set_option(\"display.max_columns\",None)\n",
    "import matplotlib.pyplot as plt\n",
    "plt.style.use('ggplot')"
   ]
  },
  {
   "cell_type": "markdown",
   "metadata": {},
   "source": [
    "## Load "
   ]
  },
  {
   "cell_type": "code",
   "execution_count": 3,
   "metadata": {},
   "outputs": [],
   "source": [
    "filename = \"scores.sc\""
   ]
  },
  {
   "cell_type": "code",
   "execution_count": 4,
   "metadata": {},
   "outputs": [],
   "source": [
    "df = pd.read_csv(filename, \"\\s+\")"
   ]
  },
  {
   "cell_type": "code",
   "execution_count": 5,
   "metadata": {},
   "outputs": [],
   "source": [
    "df = df.drop_duplicates(\"score\", keep=0)"
   ]
  },
  {
   "cell_type": "code",
   "execution_count": 6,
   "metadata": {},
   "outputs": [],
   "source": [
    "tags = df[\"baseline/baseline_silent:SCORE:\"].str.replace(pat=\"_silent:SCORE:\", repl=\"\").replace(\"/*\", \"\").str.split(\"/\").str[0]"
   ]
  },
  {
   "cell_type": "code",
   "execution_count": 7,
   "metadata": {},
   "outputs": [],
   "source": [
    "df[\"tags\"] = tags"
   ]
  },
  {
   "cell_type": "code",
   "execution_count": 8,
   "metadata": {},
   "outputs": [],
   "source": [
    "df = df[[\"tags\", \"score\", \"ddg\", \"sasa\", \"delta_unsatHbonds\"]]"
   ]
  },
  {
   "cell_type": "code",
   "execution_count": 9,
   "metadata": {},
   "outputs": [
    {
     "data": {
      "text/html": [
       "<div>\n",
       "<style scoped>\n",
       "    .dataframe tbody tr th:only-of-type {\n",
       "        vertical-align: middle;\n",
       "    }\n",
       "\n",
       "    .dataframe tbody tr th {\n",
       "        vertical-align: top;\n",
       "    }\n",
       "\n",
       "    .dataframe thead th {\n",
       "        text-align: right;\n",
       "    }\n",
       "</style>\n",
       "<table border=\"1\" class=\"dataframe\">\n",
       "  <thead>\n",
       "    <tr style=\"text-align: right;\">\n",
       "      <th></th>\n",
       "      <th>tags</th>\n",
       "      <th>score</th>\n",
       "      <th>ddg</th>\n",
       "      <th>sasa</th>\n",
       "      <th>delta_unsatHbonds</th>\n",
       "    </tr>\n",
       "  </thead>\n",
       "  <tbody>\n",
       "    <tr>\n",
       "      <th>0</th>\n",
       "      <td>baseline</td>\n",
       "      <td>-1434.482</td>\n",
       "      <td>-124.294</td>\n",
       "      <td>76183.141</td>\n",
       "      <td>112.000</td>\n",
       "    </tr>\n",
       "    <tr>\n",
       "      <th>2</th>\n",
       "      <td>sE45K</td>\n",
       "      <td>-1438.617</td>\n",
       "      <td>-124.158</td>\n",
       "      <td>76081.016</td>\n",
       "      <td>111.000</td>\n",
       "    </tr>\n",
       "    <tr>\n",
       "      <th>4</th>\n",
       "      <td>sE66R</td>\n",
       "      <td>-1431.893</td>\n",
       "      <td>-125.261</td>\n",
       "      <td>76167.977</td>\n",
       "      <td>111.000</td>\n",
       "    </tr>\n",
       "    <tr>\n",
       "      <th>6</th>\n",
       "      <td>sK18Q</td>\n",
       "      <td>-1435.027</td>\n",
       "      <td>-125.650</td>\n",
       "      <td>76035.797</td>\n",
       "      <td>109.000</td>\n",
       "    </tr>\n",
       "    <tr>\n",
       "      <th>8</th>\n",
       "      <td>sN64K</td>\n",
       "      <td>-1435.808</td>\n",
       "      <td>-125.231</td>\n",
       "      <td>76151.805</td>\n",
       "      <td>112.000</td>\n",
       "    </tr>\n",
       "    <tr>\n",
       "      <th>10</th>\n",
       "      <td>sN64R</td>\n",
       "      <td>-1409.696</td>\n",
       "      <td>-124.297</td>\n",
       "      <td>76032.891</td>\n",
       "      <td>111.000</td>\n",
       "    </tr>\n",
       "    <tr>\n",
       "      <th>12</th>\n",
       "      <td>sS46D_N48K</td>\n",
       "      <td>-1418.697</td>\n",
       "      <td>-124.029</td>\n",
       "      <td>76189.961</td>\n",
       "      <td>111.000</td>\n",
       "    </tr>\n",
       "    <tr>\n",
       "      <th>14</th>\n",
       "      <td>sT16Y</td>\n",
       "      <td>-1412.166</td>\n",
       "      <td>-124.173</td>\n",
       "      <td>76019.922</td>\n",
       "      <td>111.000</td>\n",
       "    </tr>\n",
       "    <tr>\n",
       "      <th>16</th>\n",
       "      <td>sT22H</td>\n",
       "      <td>-1432.850</td>\n",
       "      <td>-125.192</td>\n",
       "      <td>76127.336</td>\n",
       "      <td>112.000</td>\n",
       "    </tr>\n",
       "    <tr>\n",
       "      <th>18</th>\n",
       "      <td>sT28E</td>\n",
       "      <td>-1436.272</td>\n",
       "      <td>-124.224</td>\n",
       "      <td>76091.453</td>\n",
       "      <td>112.000</td>\n",
       "    </tr>\n",
       "    <tr>\n",
       "      <th>20</th>\n",
       "      <td>sT28N</td>\n",
       "      <td>-1433.502</td>\n",
       "      <td>-125.348</td>\n",
       "      <td>76087.984</td>\n",
       "      <td>111.000</td>\n",
       "    </tr>\n",
       "    <tr>\n",
       "      <th>22</th>\n",
       "      <td>sT28Q</td>\n",
       "      <td>-1440.055</td>\n",
       "      <td>-125.657</td>\n",
       "      <td>76132.242</td>\n",
       "      <td>112.000</td>\n",
       "    </tr>\n",
       "    <tr>\n",
       "      <th>23</th>\n",
       "      <td>sT16F</td>\n",
       "      <td>-1432.370</td>\n",
       "      <td>-125.793</td>\n",
       "      <td>75984.727</td>\n",
       "      <td>112.000</td>\n",
       "    </tr>\n",
       "    <tr>\n",
       "      <th>24</th>\n",
       "      <td>sS46D</td>\n",
       "      <td>-1396.953</td>\n",
       "      <td>-122.129</td>\n",
       "      <td>76184.727</td>\n",
       "      <td>111.000</td>\n",
       "    </tr>\n",
       "    <tr>\n",
       "      <th>25</th>\n",
       "      <td>sN48K</td>\n",
       "      <td>-1416.395</td>\n",
       "      <td>-124.563</td>\n",
       "      <td>76314.273</td>\n",
       "      <td>111.000</td>\n",
       "    </tr>\n",
       "  </tbody>\n",
       "</table>\n",
       "</div>"
      ],
      "text/plain": [
       "          tags      score       ddg       sasa delta_unsatHbonds\n",
       "0   baseline    -1434.482  -124.294  76183.141  112.000         \n",
       "2   sE45K       -1438.617  -124.158  76081.016  111.000         \n",
       "4   sE66R       -1431.893  -125.261  76167.977  111.000         \n",
       "6   sK18Q       -1435.027  -125.650  76035.797  109.000         \n",
       "8   sN64K       -1435.808  -125.231  76151.805  112.000         \n",
       "10  sN64R       -1409.696  -124.297  76032.891  111.000         \n",
       "12  sS46D_N48K  -1418.697  -124.029  76189.961  111.000         \n",
       "14  sT16Y       -1412.166  -124.173  76019.922  111.000         \n",
       "16  sT22H       -1432.850  -125.192  76127.336  112.000         \n",
       "18  sT28E       -1436.272  -124.224  76091.453  112.000         \n",
       "20  sT28N       -1433.502  -125.348  76087.984  111.000         \n",
       "22  sT28Q       -1440.055  -125.657  76132.242  112.000         \n",
       "23  sT16F       -1432.370  -125.793  75984.727  112.000         \n",
       "24  sS46D       -1396.953  -122.129  76184.727  111.000         \n",
       "25  sN48K       -1416.395  -124.563  76314.273  111.000         "
      ]
     },
     "execution_count": 9,
     "metadata": {},
     "output_type": "execute_result"
    }
   ],
   "source": [
    "df"
   ]
  },
  {
   "cell_type": "code",
   "execution_count": 14,
   "metadata": {
    "collapsed": true
   },
   "outputs": [],
   "source": [
    "#df.to_csv(\"singletons_doubletons_scores.csv\")"
   ]
  },
  {
   "cell_type": "code",
   "execution_count": null,
   "metadata": {
    "collapsed": true
   },
   "outputs": [],
   "source": []
  }
 ],
 "metadata": {
  "kernelspec": {
   "display_name": "Python 3",
   "language": "python",
   "name": "python3"
  },
  "language_info": {
   "codemirror_mode": {
    "name": "ipython",
    "version": 3
   },
   "file_extension": ".py",
   "mimetype": "text/x-python",
   "name": "python",
   "nbconvert_exporter": "python",
   "pygments_lexer": "ipython3",
   "version": "3.5.4"
  }
 },
 "nbformat": 4,
 "nbformat_minor": 2
}
