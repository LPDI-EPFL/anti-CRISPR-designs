{
 "cells": [
  {
   "cell_type": "code",
   "execution_count": 1,
   "metadata": {},
   "outputs": [
    {
     "name": "stdout",
     "output_type": "stream",
     "text": [
      "Populating the interactive namespace from numpy and matplotlib\n"
     ]
    }
   ],
   "source": [
    "% pylab inline\n",
    "% load_ext autoreload\n",
    "% autoreload 2"
   ]
  },
  {
   "cell_type": "code",
   "execution_count": 2,
   "metadata": {},
   "outputs": [],
   "source": [
    "import numpy as np\n",
    "import pandas as pd\n",
    "import seaborn as sns\n",
    "import Zbox as zb\n",
    "import rstoolbox as rb\n",
    "# Dataframe display\n",
    "#pd.set_option(\"display.max_columns\",None)\n",
    "import matplotlib.pyplot as plt\n",
    "plt.style.use('ggplot')"
   ]
  },
  {
   "cell_type": "code",
   "execution_count": 3,
   "metadata": {},
   "outputs": [],
   "source": [
    "filename = \"scores.sc\""
   ]
  },
  {
   "cell_type": "code",
   "execution_count": 4,
   "metadata": {},
   "outputs": [],
   "source": [
    "df = pd.read_csv(filename, \"\\s+\")"
   ]
  },
  {
   "cell_type": "code",
   "execution_count": 5,
   "metadata": {},
   "outputs": [],
   "source": [
    "df = df.drop_duplicates(\"score\", keep=0)"
   ]
  },
  {
   "cell_type": "code",
   "execution_count": 6,
   "metadata": {},
   "outputs": [],
   "source": [
    "tags = df[\"cE45K_S46D_N48K/E45K_S46D_N48K_silent:SCORE:\"].str.replace(pat=\"_silent:SCORE:\", repl=\"\").replace(\"/*\", \"\").str.split(\"/\").str[0]"
   ]
  },
  {
   "cell_type": "code",
   "execution_count": 7,
   "metadata": {},
   "outputs": [],
   "source": [
    "df[\"tags\"] = tags"
   ]
  },
  {
   "cell_type": "code",
   "execution_count": 8,
   "metadata": {},
   "outputs": [],
   "source": [
    "df = df[[\"tags\", \"score\", \"ddg\", \"sasa\", \"delta_unsatHbonds\"]]"
   ]
  },
  {
   "cell_type": "code",
   "execution_count": 9,
   "metadata": {},
   "outputs": [
    {
     "data": {
      "text/html": [
       "<div>\n",
       "<style scoped>\n",
       "    .dataframe tbody tr th:only-of-type {\n",
       "        vertical-align: middle;\n",
       "    }\n",
       "\n",
       "    .dataframe tbody tr th {\n",
       "        vertical-align: top;\n",
       "    }\n",
       "\n",
       "    .dataframe thead th {\n",
       "        text-align: right;\n",
       "    }\n",
       "</style>\n",
       "<table border=\"1\" class=\"dataframe\">\n",
       "  <thead>\n",
       "    <tr style=\"text-align: right;\">\n",
       "      <th></th>\n",
       "      <th>tags</th>\n",
       "      <th>score</th>\n",
       "      <th>ddg</th>\n",
       "      <th>sasa</th>\n",
       "      <th>delta_unsatHbonds</th>\n",
       "    </tr>\n",
       "  </thead>\n",
       "  <tbody>\n",
       "    <tr>\n",
       "      <th>0</th>\n",
       "      <td>cE45K_S46D_N48K</td>\n",
       "      <td>-1413.949</td>\n",
       "      <td>-123.926</td>\n",
       "      <td>76225.859</td>\n",
       "      <td>111.000</td>\n",
       "    </tr>\n",
       "    <tr>\n",
       "      <th>2</th>\n",
       "      <td>cK18Q_T22H</td>\n",
       "      <td>-1432.394</td>\n",
       "      <td>-124.518</td>\n",
       "      <td>76068.523</td>\n",
       "      <td>109.000</td>\n",
       "    </tr>\n",
       "    <tr>\n",
       "      <th>4</th>\n",
       "      <td>cK18Q_T22H_T28QNE</td>\n",
       "      <td>-1439.436</td>\n",
       "      <td>-124.462</td>\n",
       "      <td>76076.664</td>\n",
       "      <td>110.000</td>\n",
       "    </tr>\n",
       "    <tr>\n",
       "      <th>6</th>\n",
       "      <td>cK18Q_T28QNE</td>\n",
       "      <td>-1446.243</td>\n",
       "      <td>-126.089</td>\n",
       "      <td>76045.938</td>\n",
       "      <td>110.000</td>\n",
       "    </tr>\n",
       "    <tr>\n",
       "      <th>8</th>\n",
       "      <td>cN64KR_E66R</td>\n",
       "      <td>-1438.510</td>\n",
       "      <td>-124.838</td>\n",
       "      <td>76161.523</td>\n",
       "      <td>112.000</td>\n",
       "    </tr>\n",
       "    <tr>\n",
       "      <th>10</th>\n",
       "      <td>cT16Y_K18Q</td>\n",
       "      <td>-1404.823</td>\n",
       "      <td>-124.028</td>\n",
       "      <td>76077.984</td>\n",
       "      <td>111.000</td>\n",
       "    </tr>\n",
       "    <tr>\n",
       "      <th>12</th>\n",
       "      <td>cT16Y_K18Q_T22H</td>\n",
       "      <td>-1404.869</td>\n",
       "      <td>-122.734</td>\n",
       "      <td>76066.781</td>\n",
       "      <td>111.000</td>\n",
       "    </tr>\n",
       "    <tr>\n",
       "      <th>14</th>\n",
       "      <td>cT16Y_K18Q_T22H_T28QNE</td>\n",
       "      <td>-1437.502</td>\n",
       "      <td>-126.037</td>\n",
       "      <td>75976.148</td>\n",
       "      <td>111.000</td>\n",
       "    </tr>\n",
       "    <tr>\n",
       "      <th>16</th>\n",
       "      <td>cT16Y_K18Q_T28QNE</td>\n",
       "      <td>-1411.554</td>\n",
       "      <td>-123.175</td>\n",
       "      <td>76141.047</td>\n",
       "      <td>111.000</td>\n",
       "    </tr>\n",
       "    <tr>\n",
       "      <th>18</th>\n",
       "      <td>cT16Y_T22H</td>\n",
       "      <td>-1409.560</td>\n",
       "      <td>-124.167</td>\n",
       "      <td>76027.492</td>\n",
       "      <td>111.000</td>\n",
       "    </tr>\n",
       "    <tr>\n",
       "      <th>20</th>\n",
       "      <td>cT16Y_T22H_T28QNE</td>\n",
       "      <td>-1430.358</td>\n",
       "      <td>-126.199</td>\n",
       "      <td>76087.797</td>\n",
       "      <td>111.000</td>\n",
       "    </tr>\n",
       "    <tr>\n",
       "      <th>22</th>\n",
       "      <td>cT16Y_T28QNE</td>\n",
       "      <td>-1435.699</td>\n",
       "      <td>-124.782</td>\n",
       "      <td>76146.727</td>\n",
       "      <td>112.000</td>\n",
       "    </tr>\n",
       "    <tr>\n",
       "      <th>24</th>\n",
       "      <td>cT22H_T28QNE</td>\n",
       "      <td>-1442.857</td>\n",
       "      <td>-124.858</td>\n",
       "      <td>76047.844</td>\n",
       "      <td>112.000</td>\n",
       "    </tr>\n",
       "  </tbody>\n",
       "</table>\n",
       "</div>"
      ],
      "text/plain": [
       "                      tags      score       ddg       sasa delta_unsatHbonds\n",
       "0   cE45K_S46D_N48K         -1413.949  -123.926  76225.859  111.000         \n",
       "2   cK18Q_T22H              -1432.394  -124.518  76068.523  109.000         \n",
       "4   cK18Q_T22H_T28QNE       -1439.436  -124.462  76076.664  110.000         \n",
       "6   cK18Q_T28QNE            -1446.243  -126.089  76045.938  110.000         \n",
       "8   cN64KR_E66R             -1438.510  -124.838  76161.523  112.000         \n",
       "10  cT16Y_K18Q              -1404.823  -124.028  76077.984  111.000         \n",
       "12  cT16Y_K18Q_T22H         -1404.869  -122.734  76066.781  111.000         \n",
       "14  cT16Y_K18Q_T22H_T28QNE  -1437.502  -126.037  75976.148  111.000         \n",
       "16  cT16Y_K18Q_T28QNE       -1411.554  -123.175  76141.047  111.000         \n",
       "18  cT16Y_T22H              -1409.560  -124.167  76027.492  111.000         \n",
       "20  cT16Y_T22H_T28QNE       -1430.358  -126.199  76087.797  111.000         \n",
       "22  cT16Y_T28QNE            -1435.699  -124.782  76146.727  112.000         \n",
       "24  cT22H_T28QNE            -1442.857  -124.858  76047.844  112.000         "
      ]
     },
     "execution_count": 9,
     "metadata": {},
     "output_type": "execute_result"
    }
   ],
   "source": [
    "df"
   ]
  },
  {
   "cell_type": "code",
   "execution_count": 10,
   "metadata": {},
   "outputs": [],
   "source": [
    "#df.to_csv(\"combinations_scores.csv\")"
   ]
  },
  {
   "cell_type": "code",
   "execution_count": null,
   "metadata": {
    "collapsed": true
   },
   "outputs": [],
   "source": []
  }
 ],
 "metadata": {
  "kernelspec": {
   "display_name": "Python 3",
   "language": "python",
   "name": "python3"
  },
  "language_info": {
   "codemirror_mode": {
    "name": "ipython",
    "version": 3
   },
   "file_extension": ".py",
   "mimetype": "text/x-python",
   "name": "python",
   "nbconvert_exporter": "python",
   "pygments_lexer": "ipython3",
   "version": "3.5.4"
  }
 },
 "nbformat": 4,
 "nbformat_minor": 2
}
