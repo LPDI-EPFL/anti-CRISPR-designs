{
 "cells": [
  {
   "cell_type": "code",
   "execution_count": 1,
   "metadata": {},
   "outputs": [
    {
     "name": "stdout",
     "output_type": "stream",
     "text": [
      "Populating the interactive namespace from numpy and matplotlib\n"
     ]
    }
   ],
   "source": [
    "% pylab inline\n",
    "% load_ext autoreload\n",
    "% autoreload 2"
   ]
  },
  {
   "cell_type": "code",
   "execution_count": 2,
   "metadata": {},
   "outputs": [],
   "source": [
    "import numpy as np\n",
    "import pandas as pd\n",
    "import seaborn as sns\n",
    "import Zbox as zb\n",
    "import rstoolbox as rb\n",
    "# Dataframe display\n",
    "pd.set_option(\"display.max_columns\",None)\n",
    "import matplotlib.pyplot as plt\n",
    "plt.style.use('ggplot')"
   ]
  },
  {
   "cell_type": "markdown",
   "metadata": {},
   "source": [
    "### Helpers"
   ]
  },
  {
   "cell_type": "code",
   "execution_count": 3,
   "metadata": {},
   "outputs": [],
   "source": [
    "def extract_and_save_pdb_parts( pdbfile, chain, outfile=\"extracted.pdb\"):\n",
    "    with open(outfile, \"w\") as out:\n",
    "        with open(pdbfile, \"r\") as f:\n",
    "            for line in f:\n",
    "                if line.startswith(\"ATOM\") and line[21:22] == chain:\n",
    "                    #residue = int(\"\".join([i for i in line[22:26].strip(\" \") if i.isdigit()]))\n",
    "                    #if residue >= start and residue <= stop:\n",
    "                    out.write(\"{}\\n\".format(line))\n",
    "        out.write(\"TER\")"
   ]
  },
  {
   "cell_type": "markdown",
   "metadata": {},
   "source": [
    "## Design analysis"
   ]
  },
  {
   "cell_type": "markdown",
   "metadata": {},
   "source": [
    " ### Files"
   ]
  },
  {
   "cell_type": "code",
   "execution_count": 4,
   "metadata": {},
   "outputs": [],
   "source": [
    "silentfile = \"rmsd10/minimized_wobinder/score.sc\""
   ]
  },
  {
   "cell_type": "markdown",
   "metadata": {},
   "source": [
    "### Load"
   ]
  },
  {
   "cell_type": "code",
   "execution_count": 5,
   "metadata": {},
   "outputs": [],
   "source": [
    "df = pd.read_csv( silentfile, sep=\"\\s+\", skiprows=1)"
   ]
  },
  {
   "cell_type": "code",
   "execution_count": 6,
   "metadata": {},
   "outputs": [],
   "source": [
    "dfm = df.sort_values(\"design_score\")[[\"design_score\", \"total_score\", \"description\"]]"
   ]
  },
  {
   "cell_type": "markdown",
   "metadata": {},
   "source": [
    "### Cluster population"
   ]
  },
  {
   "cell_type": "code",
   "execution_count": 7,
   "metadata": {},
   "outputs": [
    {
     "data": {
      "text/plain": [
       "327"
      ]
     },
     "execution_count": 7,
     "metadata": {},
     "output_type": "execute_result"
    }
   ],
   "source": [
    "len(dfm)"
   ]
  },
  {
   "cell_type": "code",
   "execution_count": 8,
   "metadata": {},
   "outputs": [
    {
     "data": {
      "text/html": [
       "<div>\n",
       "<style scoped>\n",
       "    .dataframe tbody tr th:only-of-type {\n",
       "        vertical-align: middle;\n",
       "    }\n",
       "\n",
       "    .dataframe tbody tr th {\n",
       "        vertical-align: top;\n",
       "    }\n",
       "\n",
       "    .dataframe thead th {\n",
       "        text-align: right;\n",
       "    }\n",
       "</style>\n",
       "<table border=\"1\" class=\"dataframe\">\n",
       "  <thead>\n",
       "    <tr style=\"text-align: right;\">\n",
       "      <th></th>\n",
       "      <th>design_score</th>\n",
       "      <th>total_score</th>\n",
       "      <th>description</th>\n",
       "    </tr>\n",
       "  </thead>\n",
       "  <tbody>\n",
       "    <tr>\n",
       "      <th>163</th>\n",
       "      <td>-601.286</td>\n",
       "      <td>539.036</td>\n",
       "      <td>c.0.5_0001</td>\n",
       "    </tr>\n",
       "    <tr>\n",
       "      <th>119</th>\n",
       "      <td>-596.297</td>\n",
       "      <td>649.324</td>\n",
       "      <td>c.0.207_0001</td>\n",
       "    </tr>\n",
       "    <tr>\n",
       "      <th>102</th>\n",
       "      <td>-595.728</td>\n",
       "      <td>543.728</td>\n",
       "      <td>c.0.192_0001</td>\n",
       "    </tr>\n",
       "  </tbody>\n",
       "</table>\n",
       "</div>"
      ],
      "text/plain": [
       "     design_score  total_score   description\n",
       "163 -601.286       539.036      c.0.5_0001  \n",
       "119 -596.297       649.324      c.0.207_0001\n",
       "102 -595.728       543.728      c.0.192_0001"
      ]
     },
     "execution_count": 8,
     "metadata": {},
     "output_type": "execute_result"
    }
   ],
   "source": [
    "dfm.head(3)"
   ]
  },
  {
   "cell_type": "code",
   "execution_count": 9,
   "metadata": {},
   "outputs": [
    {
     "data": {
      "text/html": [
       "<div>\n",
       "<style scoped>\n",
       "    .dataframe tbody tr th:only-of-type {\n",
       "        vertical-align: middle;\n",
       "    }\n",
       "\n",
       "    .dataframe tbody tr th {\n",
       "        vertical-align: top;\n",
       "    }\n",
       "\n",
       "    .dataframe thead th {\n",
       "        text-align: right;\n",
       "    }\n",
       "</style>\n",
       "<table border=\"1\" class=\"dataframe\">\n",
       "  <thead>\n",
       "    <tr style=\"text-align: right;\">\n",
       "      <th></th>\n",
       "      <th>design_score</th>\n",
       "      <th>total_score</th>\n",
       "      <th>description</th>\n",
       "    </tr>\n",
       "  </thead>\n",
       "  <tbody>\n",
       "    <tr>\n",
       "      <th>108</th>\n",
       "      <td>-494.491</td>\n",
       "      <td>638.140</td>\n",
       "      <td>c.0.198_0001</td>\n",
       "    </tr>\n",
       "    <tr>\n",
       "      <th>148</th>\n",
       "      <td>-489.989</td>\n",
       "      <td>14475.619</td>\n",
       "      <td>c.0.46_0001</td>\n",
       "    </tr>\n",
       "    <tr>\n",
       "      <th>302</th>\n",
       "      <td>2820.857</td>\n",
       "      <td>6047.392</td>\n",
       "      <td>c.4.0_0001</td>\n",
       "    </tr>\n",
       "  </tbody>\n",
       "</table>\n",
       "</div>"
      ],
      "text/plain": [
       "     design_score  total_score   description\n",
       "108 -494.491       638.140      c.0.198_0001\n",
       "148 -489.989       14475.619    c.0.46_0001 \n",
       "302  2820.857      6047.392     c.4.0_0001  "
      ]
     },
     "execution_count": 9,
     "metadata": {},
     "output_type": "execute_result"
    }
   ],
   "source": [
    "dfm.tail(3)"
   ]
  },
  {
   "cell_type": "code",
   "execution_count": 10,
   "metadata": {},
   "outputs": [
    {
     "name": "stdout",
     "output_type": "stream",
     "text": [
      "cluster 0 with populaiton size 208\n",
      "cluster 1 with populaiton size 47\n",
      "cluster 2 with populaiton size 28\n",
      "cluster 3 with populaiton size 19\n",
      "cluster 4 with populaiton size 12\n",
      "cluster 5 with populaiton size 13\n"
     ]
    }
   ],
   "source": [
    "decoys = []\n",
    "for i in range(6):\n",
    "    print(\"cluster {} with populaiton size {}\".format(\n",
    "          i,\n",
    "          len(dfm[dfm[\"description\"].str.startswith(\"c.{}\".format(i))])))\n",
    "    #decoys.append(len(dfm[dfm[\"description\"].str.startswith(\"c.{}\".format(i))]))"
   ]
  },
  {
   "cell_type": "markdown",
   "metadata": {},
   "source": [
    "### Top scoring"
   ]
  },
  {
   "cell_type": "code",
   "execution_count": 11,
   "metadata": {},
   "outputs": [],
   "source": [
    "frames = []\n",
    "for i in range(6):\n",
    "    #print(i)\n",
    "    frames.append(dfm[dfm[\"description\"].str.contains(\"c.{}.\".format(i))].head(1))"
   ]
  },
  {
   "cell_type": "code",
   "execution_count": 12,
   "metadata": {},
   "outputs": [],
   "source": [
    "df_score = pd.concat(frames)"
   ]
  },
  {
   "cell_type": "code",
   "execution_count": 13,
   "metadata": {},
   "outputs": [],
   "source": [
    "#df_score.to_csv(\"scoreSelection.csv\")"
   ]
  },
  {
   "cell_type": "markdown",
   "metadata": {},
   "source": [
    "### Centre"
   ]
  },
  {
   "cell_type": "code",
   "execution_count": 14,
   "metadata": {},
   "outputs": [],
   "source": [
    "frames = []\n",
    "for i in range(6):\n",
    "    #print(i)\n",
    "    frames.append(dfm[dfm[\"description\"].str.contains(\"c.{}.0\".format(i))].head(1))"
   ]
  },
  {
   "cell_type": "code",
   "execution_count": 15,
   "metadata": {},
   "outputs": [],
   "source": [
    "df_centre = pd.concat(frames)"
   ]
  },
  {
   "cell_type": "code",
   "execution_count": 16,
   "metadata": {},
   "outputs": [],
   "source": [
    "#df_centre.to_csv(\"centreSelection.csv\")"
   ]
  },
  {
   "cell_type": "markdown",
   "metadata": {},
   "source": [
    "### Extract chain A and save appart"
   ]
  },
  {
   "cell_type": "code",
   "execution_count": 17,
   "metadata": {},
   "outputs": [],
   "source": [
    "import os"
   ]
  },
  {
   "cell_type": "code",
   "execution_count": 18,
   "metadata": {},
   "outputs": [],
   "source": [
    "path = \"/Users/hartevel/Desktop/clustering/c.centre_selection/\"\n",
    "outdir = \"/Users/hartevel/Desktop/clustering/c.centre_selection/centre_A\""
   ]
  },
  {
   "cell_type": "code",
   "execution_count": 19,
   "metadata": {},
   "outputs": [],
   "source": [
    "# Main execution\n",
    "os.makedirs(outdir, exist_ok=True)\n",
    "iteration = 0\n",
    "for filename in os.listdir(path):\n",
    "    if filename.endswith(\".pdb\"): \n",
    "        _file = path + filename\n",
    "        extract_and_save_pdb_parts(_file, chain=\"A\", outfile=\"{}{}.pdb\".format(outdir, filename.replace(\".pdb\", \"\")))"
   ]
  },
  {
   "cell_type": "code",
   "execution_count": 20,
   "metadata": {},
   "outputs": [],
   "source": [
    "path = \"/Users/hartevel/Desktop/clustering/c.score_selection/\"\n",
    "outdir = \"/Users/hartevel/Desktop/clustering/c.score_selection/score_A\""
   ]
  },
  {
   "cell_type": "code",
   "execution_count": 21,
   "metadata": {},
   "outputs": [],
   "source": [
    "# Main execution\n",
    "os.makedirs(outdir, exist_ok=True)\n",
    "iteration = 0\n",
    "for filename in os.listdir(path):\n",
    "    if filename.endswith(\".pdb\"): \n",
    "        _file = path + filename\n",
    "        extract_and_save_pdb_parts(_file, chain=\"A\", outfile=\"{}{}.pdb\".format(outdir, filename.replace(\".pdb\", \"\")))"
   ]
  },
  {
   "cell_type": "code",
   "execution_count": null,
   "metadata": {},
   "outputs": [],
   "source": []
  }
 ],
 "metadata": {
  "kernelspec": {
   "display_name": "Python 3",
   "language": "python",
   "name": "python3"
  },
  "language_info": {
   "codemirror_mode": {
    "name": "ipython",
    "version": 3
   },
   "file_extension": ".py",
   "mimetype": "text/x-python",
   "name": "python",
   "nbconvert_exporter": "python",
   "pygments_lexer": "ipython3",
   "version": "3.5.4"
  }
 },
 "nbformat": 4,
 "nbformat_minor": 2
}
