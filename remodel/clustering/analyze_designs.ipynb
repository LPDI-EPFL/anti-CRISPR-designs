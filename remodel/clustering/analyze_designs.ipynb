{
 "cells": [
  {
   "cell_type": "code",
   "execution_count": 1,
   "metadata": {},
   "outputs": [
    {
     "name": "stdout",
     "output_type": "stream",
     "text": [
      "Populating the interactive namespace from numpy and matplotlib\n"
     ]
    }
   ],
   "source": [
    "% pylab inline\n",
    "% load_ext autoreload\n",
    "% autoreload 2"
   ]
  },
  {
   "cell_type": "code",
   "execution_count": 2,
   "metadata": {},
   "outputs": [],
   "source": [
    "import numpy as np\n",
    "import pandas as pd\n",
    "import seaborn as sns\n",
    "import Zbox as zb\n",
    "import rstoolbox as rb\n",
    "# Dataframe display\n",
    "pd.set_option(\"display.max_columns\",None)\n",
    "import matplotlib.pyplot as plt\n",
    "plt.style.use('ggplot')"
   ]
  },
  {
   "cell_type": "markdown",
   "metadata": {},
   "source": [
    "### Helpers"
   ]
  },
  {
   "cell_type": "code",
   "execution_count": 3,
   "metadata": {},
   "outputs": [],
   "source": [
    "def extract_and_save_pdb_parts( pdbfile, chain, outfile=\"extracted.pdb\"):\n",
    "    with open(outfile, \"w\") as out:\n",
    "        with open(pdbfile, \"r\") as f:\n",
    "            for line in f:\n",
    "                if line.startswith(\"ATOM\") and line[21:22] == chain:\n",
    "                    #residue = int(\"\".join([i for i in line[22:26].strip(\" \") if i.isdigit()]))\n",
    "                    #if residue >= start and residue <= stop:\n",
    "                    out.write(\"{}\\n\".format(line))\n",
    "        out.write(\"TER\")"
   ]
  },
  {
   "cell_type": "markdown",
   "metadata": {},
   "source": [
    "## Design analysis"
   ]
  },
  {
   "cell_type": "markdown",
   "metadata": {},
   "source": [
    " ### Files"
   ]
  },
  {
   "cell_type": "code",
   "execution_count": 4,
   "metadata": {},
   "outputs": [],
   "source": [
    "silentfile = \"rmsd10/minimized_wobinder/score.sc\""
   ]
  },
  {
   "cell_type": "markdown",
   "metadata": {},
   "source": [
    "### Load"
   ]
  },
  {
   "cell_type": "code",
   "execution_count": 5,
   "metadata": {},
   "outputs": [],
   "source": [
    "df = pd.read_csv( silentfile, sep=\"\\s+\", skiprows=1)"
   ]
  },
  {
   "cell_type": "code",
   "execution_count": 6,
   "metadata": {},
   "outputs": [],
   "source": [
    "dfm = df.sort_values(\"design_score\")[[\"design_score\", \"total_score\", \"description\"]]"
   ]
  },
  {
   "cell_type": "code",
   "execution_count": 7,
   "metadata": {},
   "outputs": [
    {
     "data": {
      "text/html": [
       "<div>\n",
       "<style scoped>\n",
       "    .dataframe tbody tr th:only-of-type {\n",
       "        vertical-align: middle;\n",
       "    }\n",
       "\n",
       "    .dataframe tbody tr th {\n",
       "        vertical-align: top;\n",
       "    }\n",
       "\n",
       "    .dataframe thead th {\n",
       "        text-align: right;\n",
       "    }\n",
       "</style>\n",
       "<table border=\"1\" class=\"dataframe\">\n",
       "  <thead>\n",
       "    <tr style=\"text-align: right;\">\n",
       "      <th></th>\n",
       "      <th>design_score</th>\n",
       "      <th>total_score</th>\n",
       "      <th>description</th>\n",
       "    </tr>\n",
       "  </thead>\n",
       "  <tbody>\n",
       "    <tr>\n",
       "      <th>163</th>\n",
       "      <td>-601.286</td>\n",
       "      <td>539.036</td>\n",
       "      <td>c.0.5_0001</td>\n",
       "    </tr>\n",
       "  </tbody>\n",
       "</table>\n",
       "</div>"
      ],
      "text/plain": [
       "     design_score  total_score description\n",
       "163 -601.286       539.036      c.0.5_0001"
      ]
     },
     "execution_count": 7,
     "metadata": {},
     "output_type": "execute_result"
    }
   ],
   "source": [
    "dfm.head(1)"
   ]
  },
  {
   "cell_type": "markdown",
   "metadata": {},
   "source": [
    "### Cluster population"
   ]
  },
  {
   "cell_type": "code",
   "execution_count": 8,
   "metadata": {},
   "outputs": [
    {
     "data": {
      "text/plain": [
       "327"
      ]
     },
     "execution_count": 8,
     "metadata": {},
     "output_type": "execute_result"
    }
   ],
   "source": [
    "len(dfm)"
   ]
  },
  {
   "cell_type": "code",
   "execution_count": 10,
   "metadata": {},
   "outputs": [
    {
     "data": {
      "text/html": [
       "<div>\n",
       "<style scoped>\n",
       "    .dataframe tbody tr th:only-of-type {\n",
       "        vertical-align: middle;\n",
       "    }\n",
       "\n",
       "    .dataframe tbody tr th {\n",
       "        vertical-align: top;\n",
       "    }\n",
       "\n",
       "    .dataframe thead th {\n",
       "        text-align: right;\n",
       "    }\n",
       "</style>\n",
       "<table border=\"1\" class=\"dataframe\">\n",
       "  <thead>\n",
       "    <tr style=\"text-align: right;\">\n",
       "      <th></th>\n",
       "      <th>design_score</th>\n",
       "      <th>total_score</th>\n",
       "      <th>description</th>\n",
       "    </tr>\n",
       "  </thead>\n",
       "  <tbody>\n",
       "    <tr>\n",
       "      <th>163</th>\n",
       "      <td>-601.286</td>\n",
       "      <td>539.036</td>\n",
       "      <td>c.0.5_0001</td>\n",
       "    </tr>\n",
       "    <tr>\n",
       "      <th>119</th>\n",
       "      <td>-596.297</td>\n",
       "      <td>649.324</td>\n",
       "      <td>c.0.207_0001</td>\n",
       "    </tr>\n",
       "    <tr>\n",
       "      <th>102</th>\n",
       "      <td>-595.728</td>\n",
       "      <td>543.728</td>\n",
       "      <td>c.0.192_0001</td>\n",
       "    </tr>\n",
       "    <tr>\n",
       "      <th>307</th>\n",
       "      <td>-591.581</td>\n",
       "      <td>546.180</td>\n",
       "      <td>c.4.3_0001</td>\n",
       "    </tr>\n",
       "    <tr>\n",
       "      <th>93</th>\n",
       "      <td>-588.094</td>\n",
       "      <td>551.066</td>\n",
       "      <td>c.0.184_0001</td>\n",
       "    </tr>\n",
       "    <tr>\n",
       "      <th>321</th>\n",
       "      <td>-587.614</td>\n",
       "      <td>537.599</td>\n",
       "      <td>c.5.4_0001</td>\n",
       "    </tr>\n",
       "    <tr>\n",
       "      <th>239</th>\n",
       "      <td>-587.482</td>\n",
       "      <td>548.655</td>\n",
       "      <td>c.1.38_0001</td>\n",
       "    </tr>\n",
       "    <tr>\n",
       "      <th>74</th>\n",
       "      <td>-585.725</td>\n",
       "      <td>548.563</td>\n",
       "      <td>c.0.167_0001</td>\n",
       "    </tr>\n",
       "    <tr>\n",
       "      <th>304</th>\n",
       "      <td>-585.416</td>\n",
       "      <td>567.458</td>\n",
       "      <td>c.4.11_0001</td>\n",
       "    </tr>\n",
       "    <tr>\n",
       "      <th>187</th>\n",
       "      <td>-580.820</td>\n",
       "      <td>556.929</td>\n",
       "      <td>c.0.81_0001</td>\n",
       "    </tr>\n",
       "    <tr>\n",
       "      <th>15</th>\n",
       "      <td>-580.438</td>\n",
       "      <td>554.397</td>\n",
       "      <td>c.0.113_0001</td>\n",
       "    </tr>\n",
       "    <tr>\n",
       "      <th>138</th>\n",
       "      <td>-579.801</td>\n",
       "      <td>561.549</td>\n",
       "      <td>c.0.37_0001</td>\n",
       "    </tr>\n",
       "    <tr>\n",
       "      <th>67</th>\n",
       "      <td>-578.471</td>\n",
       "      <td>560.638</td>\n",
       "      <td>c.0.160_0001</td>\n",
       "    </tr>\n",
       "    <tr>\n",
       "      <th>289</th>\n",
       "      <td>-577.554</td>\n",
       "      <td>560.494</td>\n",
       "      <td>c.3.15_0001</td>\n",
       "    </tr>\n",
       "    <tr>\n",
       "      <th>237</th>\n",
       "      <td>-576.555</td>\n",
       "      <td>554.852</td>\n",
       "      <td>c.1.36_0001</td>\n",
       "    </tr>\n",
       "    <tr>\n",
       "      <th>49</th>\n",
       "      <td>-576.361</td>\n",
       "      <td>558.793</td>\n",
       "      <td>c.0.144_0001</td>\n",
       "    </tr>\n",
       "    <tr>\n",
       "      <th>61</th>\n",
       "      <td>-575.737</td>\n",
       "      <td>565.052</td>\n",
       "      <td>c.0.155_0001</td>\n",
       "    </tr>\n",
       "    <tr>\n",
       "      <th>326</th>\n",
       "      <td>-575.680</td>\n",
       "      <td>557.753</td>\n",
       "      <td>c.5.9_0001</td>\n",
       "    </tr>\n",
       "    <tr>\n",
       "      <th>172</th>\n",
       "      <td>-573.816</td>\n",
       "      <td>563.479</td>\n",
       "      <td>c.0.68_0001</td>\n",
       "    </tr>\n",
       "    <tr>\n",
       "      <th>157</th>\n",
       "      <td>-572.277</td>\n",
       "      <td>567.109</td>\n",
       "      <td>c.0.54_0001</td>\n",
       "    </tr>\n",
       "    <tr>\n",
       "      <th>312</th>\n",
       "      <td>-571.793</td>\n",
       "      <td>559.641</td>\n",
       "      <td>c.4.8_0001</td>\n",
       "    </tr>\n",
       "    <tr>\n",
       "      <th>70</th>\n",
       "      <td>-571.366</td>\n",
       "      <td>570.112</td>\n",
       "      <td>c.0.163_0001</td>\n",
       "    </tr>\n",
       "    <tr>\n",
       "      <th>207</th>\n",
       "      <td>-571.142</td>\n",
       "      <td>564.894</td>\n",
       "      <td>c.0.9_0001</td>\n",
       "    </tr>\n",
       "    <tr>\n",
       "      <th>155</th>\n",
       "      <td>-570.887</td>\n",
       "      <td>561.890</td>\n",
       "      <td>c.0.52_0001</td>\n",
       "    </tr>\n",
       "    <tr>\n",
       "      <th>199</th>\n",
       "      <td>-570.671</td>\n",
       "      <td>568.644</td>\n",
       "      <td>c.0.92_0001</td>\n",
       "    </tr>\n",
       "    <tr>\n",
       "      <th>90</th>\n",
       "      <td>-570.497</td>\n",
       "      <td>559.154</td>\n",
       "      <td>c.0.181_0001</td>\n",
       "    </tr>\n",
       "    <tr>\n",
       "      <th>195</th>\n",
       "      <td>-568.452</td>\n",
       "      <td>563.814</td>\n",
       "      <td>c.0.89_0001</td>\n",
       "    </tr>\n",
       "    <tr>\n",
       "      <th>146</th>\n",
       "      <td>-568.154</td>\n",
       "      <td>565.869</td>\n",
       "      <td>c.0.44_0001</td>\n",
       "    </tr>\n",
       "    <tr>\n",
       "      <th>259</th>\n",
       "      <td>-567.568</td>\n",
       "      <td>574.567</td>\n",
       "      <td>c.2.13_0001</td>\n",
       "    </tr>\n",
       "    <tr>\n",
       "      <th>78</th>\n",
       "      <td>-567.241</td>\n",
       "      <td>569.204</td>\n",
       "      <td>c.0.170_0001</td>\n",
       "    </tr>\n",
       "    <tr>\n",
       "      <th>...</th>\n",
       "      <td>...</td>\n",
       "      <td>...</td>\n",
       "      <td>...</td>\n",
       "    </tr>\n",
       "    <tr>\n",
       "      <th>296</th>\n",
       "      <td>-519.448</td>\n",
       "      <td>609.748</td>\n",
       "      <td>c.3.4_0001</td>\n",
       "    </tr>\n",
       "    <tr>\n",
       "      <th>198</th>\n",
       "      <td>-518.697</td>\n",
       "      <td>615.841</td>\n",
       "      <td>c.0.91_0001</td>\n",
       "    </tr>\n",
       "    <tr>\n",
       "      <th>238</th>\n",
       "      <td>-518.380</td>\n",
       "      <td>610.791</td>\n",
       "      <td>c.1.37_0001</td>\n",
       "    </tr>\n",
       "    <tr>\n",
       "      <th>127</th>\n",
       "      <td>-518.060</td>\n",
       "      <td>612.623</td>\n",
       "      <td>c.0.27_0001</td>\n",
       "    </tr>\n",
       "    <tr>\n",
       "      <th>249</th>\n",
       "      <td>-517.885</td>\n",
       "      <td>624.913</td>\n",
       "      <td>c.1.4_0001</td>\n",
       "    </tr>\n",
       "    <tr>\n",
       "      <th>189</th>\n",
       "      <td>-517.690</td>\n",
       "      <td>618.176</td>\n",
       "      <td>c.0.83_0001</td>\n",
       "    </tr>\n",
       "    <tr>\n",
       "      <th>292</th>\n",
       "      <td>-516.468</td>\n",
       "      <td>602.792</td>\n",
       "      <td>c.3.18_0001</td>\n",
       "    </tr>\n",
       "    <tr>\n",
       "      <th>69</th>\n",
       "      <td>-515.905</td>\n",
       "      <td>616.754</td>\n",
       "      <td>c.0.162_0001</td>\n",
       "    </tr>\n",
       "    <tr>\n",
       "      <th>231</th>\n",
       "      <td>-515.649</td>\n",
       "      <td>618.106</td>\n",
       "      <td>c.1.30_0001</td>\n",
       "    </tr>\n",
       "    <tr>\n",
       "      <th>218</th>\n",
       "      <td>-515.460</td>\n",
       "      <td>614.627</td>\n",
       "      <td>c.1.19_0001</td>\n",
       "    </tr>\n",
       "    <tr>\n",
       "      <th>71</th>\n",
       "      <td>-514.417</td>\n",
       "      <td>623.868</td>\n",
       "      <td>c.0.164_0001</td>\n",
       "    </tr>\n",
       "    <tr>\n",
       "      <th>209</th>\n",
       "      <td>-514.241</td>\n",
       "      <td>616.059</td>\n",
       "      <td>c.1.10_0001</td>\n",
       "    </tr>\n",
       "    <tr>\n",
       "      <th>65</th>\n",
       "      <td>-513.128</td>\n",
       "      <td>619.334</td>\n",
       "      <td>c.0.159_0001</td>\n",
       "    </tr>\n",
       "    <tr>\n",
       "      <th>145</th>\n",
       "      <td>-513.003</td>\n",
       "      <td>616.656</td>\n",
       "      <td>c.0.43_0001</td>\n",
       "    </tr>\n",
       "    <tr>\n",
       "      <th>178</th>\n",
       "      <td>-512.645</td>\n",
       "      <td>614.353</td>\n",
       "      <td>c.0.73_0001</td>\n",
       "    </tr>\n",
       "    <tr>\n",
       "      <th>265</th>\n",
       "      <td>-512.367</td>\n",
       "      <td>611.594</td>\n",
       "      <td>c.2.19_0001</td>\n",
       "    </tr>\n",
       "    <tr>\n",
       "      <th>125</th>\n",
       "      <td>-511.177</td>\n",
       "      <td>623.480</td>\n",
       "      <td>c.0.25_0001</td>\n",
       "    </tr>\n",
       "    <tr>\n",
       "      <th>118</th>\n",
       "      <td>-510.661</td>\n",
       "      <td>625.663</td>\n",
       "      <td>c.0.206_0001</td>\n",
       "    </tr>\n",
       "    <tr>\n",
       "      <th>236</th>\n",
       "      <td>-510.175</td>\n",
       "      <td>621.928</td>\n",
       "      <td>c.1.35_0001</td>\n",
       "    </tr>\n",
       "    <tr>\n",
       "      <th>100</th>\n",
       "      <td>-509.939</td>\n",
       "      <td>631.434</td>\n",
       "      <td>c.0.190_0001</td>\n",
       "    </tr>\n",
       "    <tr>\n",
       "      <th>80</th>\n",
       "      <td>-509.774</td>\n",
       "      <td>616.735</td>\n",
       "      <td>c.0.172_0001</td>\n",
       "    </tr>\n",
       "    <tr>\n",
       "      <th>232</th>\n",
       "      <td>-508.434</td>\n",
       "      <td>627.452</td>\n",
       "      <td>c.1.31_0001</td>\n",
       "    </tr>\n",
       "    <tr>\n",
       "      <th>226</th>\n",
       "      <td>-508.289</td>\n",
       "      <td>630.780</td>\n",
       "      <td>c.1.26_0001</td>\n",
       "    </tr>\n",
       "    <tr>\n",
       "      <th>0</th>\n",
       "      <td>-505.915</td>\n",
       "      <td>629.320</td>\n",
       "      <td>c.0.0_0001</td>\n",
       "    </tr>\n",
       "    <tr>\n",
       "      <th>144</th>\n",
       "      <td>-499.714</td>\n",
       "      <td>625.299</td>\n",
       "      <td>c.0.42_0001</td>\n",
       "    </tr>\n",
       "    <tr>\n",
       "      <th>277</th>\n",
       "      <td>-498.826</td>\n",
       "      <td>639.856</td>\n",
       "      <td>c.2.4_0001</td>\n",
       "    </tr>\n",
       "    <tr>\n",
       "      <th>82</th>\n",
       "      <td>-497.182</td>\n",
       "      <td>636.526</td>\n",
       "      <td>c.0.174_0001</td>\n",
       "    </tr>\n",
       "    <tr>\n",
       "      <th>108</th>\n",
       "      <td>-494.491</td>\n",
       "      <td>638.140</td>\n",
       "      <td>c.0.198_0001</td>\n",
       "    </tr>\n",
       "    <tr>\n",
       "      <th>148</th>\n",
       "      <td>-489.989</td>\n",
       "      <td>14475.619</td>\n",
       "      <td>c.0.46_0001</td>\n",
       "    </tr>\n",
       "    <tr>\n",
       "      <th>302</th>\n",
       "      <td>2820.857</td>\n",
       "      <td>6047.392</td>\n",
       "      <td>c.4.0_0001</td>\n",
       "    </tr>\n",
       "  </tbody>\n",
       "</table>\n",
       "<p>327 rows × 3 columns</p>\n",
       "</div>"
      ],
      "text/plain": [
       "     design_score  total_score   description\n",
       "163 -601.286       539.036      c.0.5_0001  \n",
       "119 -596.297       649.324      c.0.207_0001\n",
       "102 -595.728       543.728      c.0.192_0001\n",
       "307 -591.581       546.180      c.4.3_0001  \n",
       "93  -588.094       551.066      c.0.184_0001\n",
       "321 -587.614       537.599      c.5.4_0001  \n",
       "239 -587.482       548.655      c.1.38_0001 \n",
       "74  -585.725       548.563      c.0.167_0001\n",
       "304 -585.416       567.458      c.4.11_0001 \n",
       "187 -580.820       556.929      c.0.81_0001 \n",
       "15  -580.438       554.397      c.0.113_0001\n",
       "138 -579.801       561.549      c.0.37_0001 \n",
       "67  -578.471       560.638      c.0.160_0001\n",
       "289 -577.554       560.494      c.3.15_0001 \n",
       "237 -576.555       554.852      c.1.36_0001 \n",
       "49  -576.361       558.793      c.0.144_0001\n",
       "61  -575.737       565.052      c.0.155_0001\n",
       "326 -575.680       557.753      c.5.9_0001  \n",
       "172 -573.816       563.479      c.0.68_0001 \n",
       "157 -572.277       567.109      c.0.54_0001 \n",
       "312 -571.793       559.641      c.4.8_0001  \n",
       "70  -571.366       570.112      c.0.163_0001\n",
       "207 -571.142       564.894      c.0.9_0001  \n",
       "155 -570.887       561.890      c.0.52_0001 \n",
       "199 -570.671       568.644      c.0.92_0001 \n",
       "90  -570.497       559.154      c.0.181_0001\n",
       "195 -568.452       563.814      c.0.89_0001 \n",
       "146 -568.154       565.869      c.0.44_0001 \n",
       "259 -567.568       574.567      c.2.13_0001 \n",
       "78  -567.241       569.204      c.0.170_0001\n",
       "..       ...           ...               ...\n",
       "296 -519.448       609.748      c.3.4_0001  \n",
       "198 -518.697       615.841      c.0.91_0001 \n",
       "238 -518.380       610.791      c.1.37_0001 \n",
       "127 -518.060       612.623      c.0.27_0001 \n",
       "249 -517.885       624.913      c.1.4_0001  \n",
       "189 -517.690       618.176      c.0.83_0001 \n",
       "292 -516.468       602.792      c.3.18_0001 \n",
       "69  -515.905       616.754      c.0.162_0001\n",
       "231 -515.649       618.106      c.1.30_0001 \n",
       "218 -515.460       614.627      c.1.19_0001 \n",
       "71  -514.417       623.868      c.0.164_0001\n",
       "209 -514.241       616.059      c.1.10_0001 \n",
       "65  -513.128       619.334      c.0.159_0001\n",
       "145 -513.003       616.656      c.0.43_0001 \n",
       "178 -512.645       614.353      c.0.73_0001 \n",
       "265 -512.367       611.594      c.2.19_0001 \n",
       "125 -511.177       623.480      c.0.25_0001 \n",
       "118 -510.661       625.663      c.0.206_0001\n",
       "236 -510.175       621.928      c.1.35_0001 \n",
       "100 -509.939       631.434      c.0.190_0001\n",
       "80  -509.774       616.735      c.0.172_0001\n",
       "232 -508.434       627.452      c.1.31_0001 \n",
       "226 -508.289       630.780      c.1.26_0001 \n",
       "0   -505.915       629.320      c.0.0_0001  \n",
       "144 -499.714       625.299      c.0.42_0001 \n",
       "277 -498.826       639.856      c.2.4_0001  \n",
       "82  -497.182       636.526      c.0.174_0001\n",
       "108 -494.491       638.140      c.0.198_0001\n",
       "148 -489.989       14475.619    c.0.46_0001 \n",
       "302  2820.857      6047.392     c.4.0_0001  \n",
       "\n",
       "[327 rows x 3 columns]"
      ]
     },
     "execution_count": 10,
     "metadata": {},
     "output_type": "execute_result"
    }
   ],
   "source": [
    "dfm"
   ]
  },
  {
   "cell_type": "code",
   "execution_count": 18,
   "metadata": {},
   "outputs": [
    {
     "data": {
      "text/plain": [
       "(     design_score  total_score  description\n",
       " 289 -577.554       560.494      c.3.15_0001\n",
       " 283 -561.349       576.729      c.3.0_0001 \n",
       " 298 -555.079       577.557      c.3.6_0001 \n",
       " 286 -554.957       584.475      c.3.12_0001\n",
       " 288 -554.367       582.244      c.3.14_0001\n",
       " 294 -553.577       581.201      c.3.2_0001 \n",
       " 300 -549.774       583.153      c.3.8_0001 \n",
       " 285 -548.268       591.748      c.3.11_0001\n",
       " 299 -542.293       593.492      c.3.7_0001 \n",
       " 284 -541.092       597.288      c.3.10_0001\n",
       " 295 -536.606       598.579      c.3.3_0001 \n",
       " 291 -536.562       599.958      c.3.17_0001\n",
       " 297 -533.641       655.949      c.3.5_0001 \n",
       " 290 -530.695       604.841      c.3.16_0001\n",
       " 287 -530.211       608.159      c.3.13_0001\n",
       " 293 -528.046       602.642      c.3.1_0001 \n",
       " 301 -520.187       614.167      c.3.9_0001 \n",
       " 296 -519.448       609.748      c.3.4_0001 \n",
       " 292 -516.468       602.792      c.3.18_0001, 19)"
      ]
     },
     "execution_count": 18,
     "metadata": {},
     "output_type": "execute_result"
    }
   ],
   "source": [
    "dfm[dfm[\"description\"].str.startswith(\"c.{}\".format(3))], len(dfm[dfm[\"description\"].str.startswith(\"c.{}\".format(3))])"
   ]
  },
  {
   "cell_type": "code",
   "execution_count": 19,
   "metadata": {},
   "outputs": [
    {
     "name": "stdout",
     "output_type": "stream",
     "text": [
      "208\n",
      "47\n",
      "28\n",
      "19\n",
      "12\n",
      "13\n",
      "0\n",
      "0\n",
      "0\n",
      "0\n"
     ]
    }
   ],
   "source": [
    "decoys = []\n",
    "for i in range(10):\n",
    "    print(len(dfm[dfm[\"description\"].str.startswith(\"c.{}\".format(i))]))\n",
    "    decoys.append(len(dfm[dfm[\"description\"].str.startswith(\"c.{}\".format(i))]))"
   ]
  },
  {
   "cell_type": "code",
   "execution_count": 20,
   "metadata": {},
   "outputs": [
    {
     "data": {
      "text/plain": [
       "327"
      ]
     },
     "execution_count": 20,
     "metadata": {},
     "output_type": "execute_result"
    }
   ],
   "source": [
    "sum(decoys)"
   ]
  },
  {
   "cell_type": "markdown",
   "metadata": {},
   "source": [
    "### Top scoring"
   ]
  },
  {
   "cell_type": "code",
   "execution_count": 55,
   "metadata": {},
   "outputs": [],
   "source": [
    "frames = []\n",
    "for i in range(6):\n",
    "    #print(i)\n",
    "    frames.append(dfm[dfm[\"description\"].str.contains(\"c.{}.\".format(i))].head(1))"
   ]
  },
  {
   "cell_type": "code",
   "execution_count": 56,
   "metadata": {},
   "outputs": [],
   "source": [
    "df_score = pd.concat(frames)"
   ]
  },
  {
   "cell_type": "code",
   "execution_count": 57,
   "metadata": {},
   "outputs": [],
   "source": [
    "df_score.to_csv(\"scoreSelection.csv\")"
   ]
  },
  {
   "cell_type": "markdown",
   "metadata": {},
   "source": [
    "### Centre"
   ]
  },
  {
   "cell_type": "code",
   "execution_count": 65,
   "metadata": {},
   "outputs": [],
   "source": [
    "frames = []\n",
    "for i in range(6):\n",
    "    #print(i)\n",
    "    frames.append(dfm[dfm[\"description\"].str.contains(\"c.{}.0\".format(i))].head(1))"
   ]
  },
  {
   "cell_type": "code",
   "execution_count": 66,
   "metadata": {},
   "outputs": [],
   "source": [
    "df_centre = pd.concat(frames)"
   ]
  },
  {
   "cell_type": "code",
   "execution_count": 68,
   "metadata": {},
   "outputs": [],
   "source": [
    "df_centre.to_csv(\"centreSelection.csv\")"
   ]
  },
  {
   "cell_type": "markdown",
   "metadata": {},
   "source": [
    "### Extract chain A and save appart"
   ]
  },
  {
   "cell_type": "code",
   "execution_count": 74,
   "metadata": {},
   "outputs": [],
   "source": [
    "import os"
   ]
  },
  {
   "cell_type": "code",
   "execution_count": 75,
   "metadata": {},
   "outputs": [],
   "source": [
    "path = \"/Users/hartevel/Desktop/clustering/c.centre_selection/\"\n",
    "outdir = \"/Users/hartevel/Desktop/clustering/c.centre_selection/centre_A\""
   ]
  },
  {
   "cell_type": "code",
   "execution_count": 76,
   "metadata": {},
   "outputs": [],
   "source": [
    "# Main execution\n",
    "os.makedirs(outdir, exist_ok=True)\n",
    "iteration = 0\n",
    "for filename in os.listdir(path):\n",
    "    if filename.endswith(\".pdb\"): \n",
    "        _file = path + filename\n",
    "        extract_and_save_pdb_parts(_file, chain=\"A\", outfile=\"{}{}.pdb\".format(outdir, filename.replace(\".pdb\", \"\")))"
   ]
  },
  {
   "cell_type": "code",
   "execution_count": 79,
   "metadata": {},
   "outputs": [],
   "source": [
    "path = \"/Users/hartevel/Desktop/clustering/c.score_selection/\"\n",
    "outdir = \"/Users/hartevel/Desktop/clustering/c.score_selection/score_A\""
   ]
  },
  {
   "cell_type": "code",
   "execution_count": 80,
   "metadata": {},
   "outputs": [],
   "source": [
    "# Main execution\n",
    "os.makedirs(outdir, exist_ok=True)\n",
    "iteration = 0\n",
    "for filename in os.listdir(path):\n",
    "    if filename.endswith(\".pdb\"): \n",
    "        _file = path + filename\n",
    "        extract_and_save_pdb_parts(_file, chain=\"A\", outfile=\"{}{}.pdb\".format(outdir, filename.replace(\".pdb\", \"\")))"
   ]
  },
  {
   "cell_type": "code",
   "execution_count": null,
   "metadata": {},
   "outputs": [],
   "source": []
  }
 ],
 "metadata": {
  "kernelspec": {
   "display_name": "Python 3",
   "language": "python",
   "name": "python3"
  },
  "language_info": {
   "codemirror_mode": {
    "name": "ipython",
    "version": 3
   },
   "file_extension": ".py",
   "mimetype": "text/x-python",
   "name": "python",
   "nbconvert_exporter": "python",
   "pygments_lexer": "ipython3",
   "version": "3.5.4"
  }
 },
 "nbformat": 4,
 "nbformat_minor": 2
}
